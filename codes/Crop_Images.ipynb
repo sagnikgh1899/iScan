{
  "nbformat": 4,
  "nbformat_minor": 0,
  "metadata": {
    "colab": {
      "provenance": []
    },
    "kernelspec": {
      "name": "python3",
      "display_name": "Python 3"
    },
    "language_info": {
      "name": "python"
    }
  },
  "cells": [
    {
      "cell_type": "code",
      "execution_count": null,
      "metadata": {
        "colab": {
          "base_uri": "https://localhost:8080/"
        },
        "id": "hN2lavuRVWu0",
        "outputId": "630f3b72-dcaa-4fa4-ceee-b4cc0b0e9f93"
      },
      "outputs": [
        {
          "output_type": "stream",
          "name": "stdout",
          "text": [
            "Drive already mounted at /content/drive; to attempt to forcibly remount, call drive.mount(\"/content/drive\", force_remount=True).\n"
          ]
        }
      ],
      "source": [
        "from google.colab import drive\n",
        "drive.mount('/content/drive')"
      ]
    },
    {
      "cell_type": "code",
      "source": [
        "import glob\n",
        "import re\n",
        "import numpy as np\n",
        "import PIL\n",
        "from PIL import Image\n",
        "import matplotlib.pyplot as plt\n",
        "import os\n",
        "import cv2\n",
        "from skimage.transform import resize"
      ],
      "metadata": {
        "id": "YZ0ICzbSWCaJ"
      },
      "execution_count": null,
      "outputs": []
    },
    {
      "cell_type": "code",
      "source": [
        "numbers = re.compile(r'(\\d+)')\n",
        "def numericalSort(value):\n",
        "    parts = numbers.split(value)\n",
        "    parts[1::2] = map(int, parts[1::2])\n",
        "    return parts\n"
      ],
      "metadata": {
        "id": "DoPcpMt-WOZz"
      },
      "execution_count": null,
      "outputs": []
    },
    {
      "cell_type": "code",
      "source": [
        "filelist_trainx_ph2 = sorted(glob.glob('/content/drive/MyDrive/ISCAN/x_train/*.png'), key=numericalSort)\n",
        "X_train_ph2 = np.array([np.array(Image.open(fname)) for fname in filelist_trainx_ph2])\n",
        "\n",
        "filelist_trainy_ph2 = sorted(glob.glob('/content/drive/MyDrive/ISCAN/y_train/*.png'), key=numericalSort)\n",
        "Y_train_ph2 = np.array([np.array(Image.open(fname)) for fname in filelist_trainy_ph2])"
      ],
      "metadata": {
        "id": "zWk5HQRXV-Po"
      },
      "execution_count": null,
      "outputs": []
    },
    {
      "cell_type": "code",
      "source": [
        "def crop_train_image(image):  \n",
        "  # Define the area to be cropped (left, upper, right, lower)\n",
        "  x1 = 10\n",
        "  x2 = 30\n",
        "  y1 = 10\n",
        "  y2 = 30\n",
        "\n",
        "  # Crop the image\n",
        "  crop_amount = int(image.shape[1] * 0.2)\n",
        "  cropped_image = image[:, crop_amount:-crop_amount]\n",
        "\n",
        "\n",
        "  # define the new dimensions\n",
        "  new_height = 192\n",
        "  new_width = 256\n",
        "\n",
        "  # create an empty array to store the resized images\n",
        "  resized_image = resize(cropped_image, (new_height, new_width))\n",
        "\n",
        "\n",
        "  # Display\n",
        "  # plt.figure(figsize=(12,6))\n",
        "  # plt.imshow(cropped_image, plt.cm.binary_r)\n",
        "  # plt.xlabel(\"Dimensions: \"+str(np.array(cropped_image[0]).shape))\n",
        "  # plt.show()\n",
        "  # plt.figure(figsize=(12,6))\n",
        "  # plt.imshow(resized_image, plt.cm.binary_r)\n",
        "  # plt.xlabel(\"Dimensions: \"+str(np.array(cropped_image[0]).shape))\n",
        "  # plt.show()\n",
        "\n",
        "  return resized_image\n"
      ],
      "metadata": {
        "id": "7oe8loEjVi9O"
      },
      "execution_count": null,
      "outputs": []
    },
    {
      "cell_type": "code",
      "source": [
        "# For y_train images\n",
        "output_path = \"/content/drive/MyDrive/ISCAN/y_train/\"\n",
        "for i in range(len(Y_train_ph2)):\n",
        "  image = Y_train_ph2[i]\n",
        "  cropped_image = crop_train_image(image)\n",
        "  filename = str(i+1)+\"bw.png\"\n",
        "  # save the cropped image to disk\n",
        "  output_filename = os.path.join(output_path, filename)\n",
        "  cv2.imwrite(output_filename, cropped_image)\n",
        "  cropped_image = None\n",
        "  # break\n"
      ],
      "metadata": {
        "id": "9y4zHXP6oFlF"
      },
      "execution_count": null,
      "outputs": []
    },
    {
      "cell_type": "code",
      "source": [],
      "metadata": {
        "id": "es3OtDNSoS6i"
      },
      "execution_count": null,
      "outputs": []
    }
  ]
}